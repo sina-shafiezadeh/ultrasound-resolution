{
  "nbformat": 4,
  "nbformat_minor": 0,
  "metadata": {
    "colab": {
      "provenance": []
    },
    "kernelspec": {
      "name": "python3",
      "display_name": "Python 3"
    },
    "language_info": {
      "name": "python"
    }
  },
  "cells": [
    {
      "cell_type": "code",
      "source": [
        "import numpy as np\n",
        "import pandas as pd\n",
        "import os\n",
        "from google.colab import drive\n",
        "\n",
        "from skimage import io, metrics\n",
        "from skimage.metrics import peak_signal_noise_ratio, structural_similarity\n",
        "from scipy import stats, ndimage\n",
        "from skimage.transform import resize\n",
        "from PIL import Image"
      ],
      "metadata": {
        "id": "ViwlZq3kf43l"
      },
      "execution_count": null,
      "outputs": []
    },
    {
      "cell_type": "code",
      "source": [
        "drive.mount('/content/drive')"
      ],
      "metadata": {
        "colab": {
          "base_uri": "https://localhost:8080/"
        },
        "id": "D_vpyWwuf8RR",
        "outputId": "d6a42271-88ac-4bd2-d921-e12d361e0bd6"
      },
      "execution_count": null,
      "outputs": [
        {
          "output_type": "stream",
          "name": "stdout",
          "text": [
            "Mounted at /content/drive\n"
          ]
        }
      ]
    },
    {
      "cell_type": "code",
      "source": [
        "low_path = '/content/drive/MyDrive/Low Ultrasound Images'\n",
        "high_path = '/content/drive/MyDrive/High Ultrasound Images'"
      ],
      "metadata": {
        "id": "iOd8YAoYgKmZ"
      },
      "execution_count": null,
      "outputs": []
    },
    {
      "cell_type": "code",
      "source": [
        "def resize_image(image):\n",
        "  target_shape = (256, 256)\n",
        "  return image.resize(target_shape, Image.Resampling.LANCZOS)\n",
        "\n",
        "def load_and_resize_images_from_folder(folder):\n",
        "  images = []\n",
        "  for filename in os.listdir(folder):\n",
        "    if filename.endswith('.tif'):\n",
        "      img = Image.open(os.path.join(folder, filename)).convert('L')\n",
        "      if img is not None:\n",
        "        img_resized = resize_image(img)\n",
        "        img_array = np.array(img_resized)\n",
        "        images.append(img_array)\n",
        "  return images\n",
        "\n",
        "low_freq_images = load_and_resize_images_from_folder(low_path)\n",
        "print(len(low_freq_images))\n",
        "high_freq_images = load_and_resize_images_from_folder(high_path)\n",
        "print(len(high_freq_images))"
      ],
      "metadata": {
        "colab": {
          "base_uri": "https://localhost:8080/"
        },
        "id": "G_HJMNz1gKo_",
        "outputId": "2a3f65f3-33d4-4576-bd09-a7ba90249365"
      },
      "execution_count": null,
      "outputs": [
        {
          "output_type": "stream",
          "name": "stdout",
          "text": [
            "1000\n",
            "1000\n"
          ]
        }
      ]
    },
    {
      "cell_type": "code",
      "execution_count": null,
      "metadata": {
        "id": "qrkG17MGAB7P"
      },
      "outputs": [],
      "source": [
        "def calculate_metrics(images):\n",
        "  metrics_data = {\n",
        "      'SNR': [],\n",
        "      'PSNR': [],\n",
        "      'CNR': [],\n",
        "      'HCSR': [],\n",
        "      'SSIM': [],\n",
        "      'LCC': [],\n",
        "      'SROCC': [],\n",
        "      'MSE': [],\n",
        "      'RMSE': [],\n",
        "      'Err3': [],\n",
        "      'Err4': [],\n",
        "      'GAE': [],\n",
        "      'Q': []\n",
        "  }\n",
        "\n",
        "  # Calculate the reference image using the median\n",
        "  reference_img = np.array(Image.fromarray(np.uint8(np.median(images, axis=0))))\n",
        "  reference_img_flat = reference_img.flatten()\n",
        "\n",
        "  for img in images:\n",
        "    img_flat = img.flatten()\n",
        "\n",
        "    # Signal-to-Noise Ratio (SNR)\n",
        "    signal = np.mean(img_flat)\n",
        "    noise = np.std(img_flat)\n",
        "    snr = signal / noise if noise != 0 else float('inf')\n",
        "\n",
        "    # Peak Signal-to-Noise Ratio (PSNR)\n",
        "    psnr = peak_signal_noise_ratio(reference_img, img)\n",
        "\n",
        "    # Contrast-to-Noise Ratio (CNR)\n",
        "    contrast = np.max(img_flat) - np.min(img_flat)\n",
        "    cnr = contrast / noise if noise != 0 else float('inf')\n",
        "\n",
        "    # High-Contrast Spatial Resolution (HCSR)\n",
        "    edges = ndimage.sobel(img)\n",
        "    hcsr = np.mean(edges) / np.mean(np.abs(img)) if np.mean(np.abs(img)) != 0 else float('inf')\n",
        "\n",
        "    # Structural Similarity Index Measure (SSIM)\n",
        "    ssim_val, _ = structural_similarity(img, reference_img, win_size=3, full=True)\n",
        "\n",
        "    # Linear Correlation Coefficient (LCC)\n",
        "    lcc = np.corrcoef(img_flat, reference_img_flat)[0, 1]\n",
        "\n",
        "    # Spearman’s rank-order correlation coefficient (SROCC)\n",
        "    srocc, _ = stats.spearmanr(img_flat, reference_img_flat)\n",
        "\n",
        "    # Mean Square Error (MSE)\n",
        "    mse = metrics.mean_squared_error(reference_img, img)\n",
        "\n",
        "    # Root Mean Square Error (RMSE)\n",
        "    rmse = np.sqrt(mse)\n",
        "\n",
        "    # Normalized error summation (Err3 and Err4)\n",
        "    err3 = np.mean(np.abs(reference_img - img) ** 3) ** (1/3)\n",
        "    err4 = np.mean(np.abs(reference_img - img) ** 4) ** (1/4)\n",
        "\n",
        "    # Geometric Average Error (GAE)\n",
        "    gae = np.mean(np.log(np.abs(reference_img - img) + 1e-10))\n",
        "\n",
        "    # Universal Quality Index (Q)\n",
        "    mean_x = np.mean(reference_img)\n",
        "    mean_y = np.mean(img)\n",
        "    var_x = np.var(reference_img)\n",
        "    var_y = np.var(img)\n",
        "    cov_xy = np.cov(reference_img.flatten(), img.flatten())[0, 1]\n",
        "    luminance = (2 * mean_x * mean_y + 1e-10) / (mean_x**2 + mean_y**2 + 1e-10)\n",
        "    contrast = (2 * np.sqrt(var_x) * np.sqrt(var_y) + 1e-10) / (var_x + var_y + 1e-10)\n",
        "    structure = (cov_xy + 1e-10) / (np.sqrt(var_x) * np.sqrt(var_y) + 1e-10)\n",
        "    q = luminance * contrast * structure\n",
        "\n",
        "    metrics_data['SNR'].append(snr)\n",
        "    metrics_data['PSNR'].append(psnr)\n",
        "    metrics_data['CNR'].append(cnr)\n",
        "    metrics_data['HCSR'].append(hcsr)\n",
        "    metrics_data['SSIM'].append(ssim_val)\n",
        "    metrics_data['LCC'].append(lcc)\n",
        "    metrics_data['SROCC'].append(srocc)\n",
        "    metrics_data['MSE'].append(mse)\n",
        "    metrics_data['RMSE'].append(rmse)\n",
        "    metrics_data['Err3'].append(err3)\n",
        "    metrics_data['Err4'].append(err4)\n",
        "    metrics_data['GAE'].append(gae)\n",
        "    metrics_data['Q'].append(q)\n",
        "\n",
        "  return metrics_data\n",
        "\n",
        "low_freq_metrics = calculate_metrics(low_freq_images)\n",
        "high_freq_metrics = calculate_metrics(high_freq_images)\n",
        "\n",
        "low_freq_df = pd.DataFrame(low_freq_metrics)\n",
        "high_freq_df = pd.DataFrame(high_freq_metrics)"
      ]
    },
    {
      "cell_type": "code",
      "source": [
        "# export result\n",
        "low_freq_df.to_csv('/content/drive/My Drive/results log/low_freq_assessment.csv', index=False)\n",
        "high_freq_df.to_csv('/content/drive/My Drive/results log/high_freq_assessment.csv', index=False)"
      ],
      "metadata": {
        "id": "Nh8PaRmyn-pt"
      },
      "execution_count": null,
      "outputs": []
    },
    {
      "cell_type": "code",
      "source": [
        "# t-tests between the two groups for each metric\n",
        "for metric in low_freq_metrics.keys():\n",
        "  t_stat, p_value = stats.ttest_ind(low_freq_df[metric], high_freq_df[metric])\n",
        "  print(f\"T-test for {metric}:\")\n",
        "  print(f\"T-statistic: {t_stat:.2f}, P-value: {p_value:.3f}\\n\")"
      ],
      "metadata": {
        "colab": {
          "base_uri": "https://localhost:8080/"
        },
        "id": "lnCn6wyQmZAJ",
        "outputId": "828dc1bc-2299-4b0a-e64e-3cba0dd13d69"
      },
      "execution_count": null,
      "outputs": [
        {
          "output_type": "stream",
          "name": "stdout",
          "text": [
            "T-test for SNR:\n",
            "T-statistic: 11.05, P-value: 0.000\n",
            "\n",
            "T-test for PSNR:\n",
            "T-statistic: 9.70, P-value: 0.000\n",
            "\n",
            "T-test for CNR:\n",
            "T-statistic: -10.79, P-value: 0.000\n",
            "\n",
            "T-test for HCSR:\n",
            "T-statistic: -15.18, P-value: 0.000\n",
            "\n",
            "T-test for SSIM:\n",
            "T-statistic: 9.76, P-value: 0.000\n",
            "\n",
            "T-test for LCC:\n",
            "T-statistic: 0.98, P-value: 0.329\n",
            "\n",
            "T-test for SROCC:\n",
            "T-statistic: 0.23, P-value: 0.822\n",
            "\n",
            "T-test for MSE:\n",
            "T-statistic: -9.39, P-value: 0.000\n",
            "\n",
            "T-test for RMSE:\n",
            "T-statistic: -9.64, P-value: 0.000\n",
            "\n",
            "T-test for Err3:\n",
            "T-statistic: 9.77, P-value: 0.000\n",
            "\n",
            "T-test for Err4:\n",
            "T-statistic: -11.00, P-value: 0.000\n",
            "\n",
            "T-test for GAE:\n",
            "T-statistic: -5.96, P-value: 0.000\n",
            "\n",
            "T-test for Q:\n",
            "T-statistic: 3.97, P-value: 0.000\n",
            "\n"
          ]
        }
      ]
    },
    {
      "cell_type": "code",
      "source": [
        "# Calculate average values for each metric\n",
        "def display_average_metrics(df, group_name):\n",
        "  print(f\"Average values for each metric in {group_name}:\")\n",
        "  for metric in df.columns:\n",
        "    average_value = df[metric].mean()\n",
        "    print(f\"{metric}: {average_value:.4f}\")\n",
        "\n",
        "# Display average values for Low-Frequency and High-Frequency Groups\n",
        "display_average_metrics(low_freq_df, \"Low-Frequency Group (Group A)\")\n",
        "display_average_metrics(high_freq_df, \"High-Frequency Group (Group B)\")\n"
      ],
      "metadata": {
        "colab": {
          "base_uri": "https://localhost:8080/"
        },
        "id": "Tli5AE7omZYs",
        "outputId": "25fbaca9-585b-40ac-c801-269d682da7d2"
      },
      "execution_count": null,
      "outputs": [
        {
          "output_type": "stream",
          "name": "stdout",
          "text": [
            "Average values for each metric in Low-Frequency Group (Group A):\n",
            "SNR: 3.0075\n",
            "PSNR: 18.3965\n",
            "CNR: 7.3009\n",
            "HCSR: 1.7030\n",
            "SSIM: 0.4746\n",
            "LCC: 0.3772\n",
            "SROCC: 0.4012\n",
            "MSE: 1027.6563\n",
            "RMSE: 31.3367\n",
            "Err3: 4.8166\n",
            "Err4: 2.8380\n",
            "GAE: 3.8347\n",
            "Q: 0.2586\n",
            "Average values for each metric in High-Frequency Group (Group B):\n",
            "SNR: 2.5344\n",
            "PSNR: 17.5902\n",
            "CNR: 7.9319\n",
            "HCSR: 2.6688\n",
            "SSIM: 0.4268\n",
            "LCC: 0.3647\n",
            "SROCC: 0.3979\n",
            "MSE: 1254.0300\n",
            "RMSE: 34.5138\n",
            "Err3: 4.8099\n",
            "Err4: 2.8547\n",
            "GAE: 4.0023\n",
            "Q: 0.2250\n"
          ]
        }
      ]
    },
    {
      "cell_type": "markdown",
      "source": [
        ""
      ],
      "metadata": {
        "id": "AnRtRh82In6w"
      }
    }
  ]
}